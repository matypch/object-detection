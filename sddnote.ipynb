{
 "cells": [
  {
   "cell_type": "code",
   "execution_count": 3,
   "metadata": {},
   "outputs": [],
   "source": [
    "\n",
    "import torch\n",
    "from torch_snippets import *\n",
    "#from torch import nn\n",
    "import numpy as np\n",
    "from torch import nn\n",
    "from PIL import Image\n",
    "from fastapi import Request\n",
    "\n",
    "\n",
    "class SDD(nn.Module):\n",
    "    classes = ['defect','non_defect']\n",
    "    def __init__(self, model, device = 'cpu'):\n",
    "        super().__init__()\n",
    "        self.model = model.to(device)\n",
    "        self.device = device\n",
    "\n",
    "    @torch.no_grad()\n",
    "    def forward(self, x):\n",
    "        x = x.view(-1,3, 224,224).to(device)\n",
    "        pred = self.model(x)\n",
    "        conf = pred[0][0]\n",
    "        clss = np.where(conf.item()<0.5, 'non_defect', 'defect')\n",
    "        print(clss)\n",
    "        return clss.item()\n",
    "    \n",
    "    def predict(self, input):\n",
    "        print(input)\n",
    "        if isinstance(input,( PIL.PngImagePlugin.PngImageFiles, PIL.Image.Image)):\n",
    "            im = (255*np.array(input)).astype(np.uint8)\n",
    "        else:\n",
    "            im = read(input, 1)\n",
    "        print(im.shape)\n",
    "\n",
    "        im = resize(img,224)\n",
    "        im = torch.tensor(im/255)\n",
    "        im = im.permute(2,0,1).float()\n",
    "        clss = self.forward(im)\n",
    "        return {\"class\": clss}\n",
    "    predict_from_path =  predict\n",
    "    predict_from_image = predict"
   ]
  },
  {
   "cell_type": "markdown",
   "metadata": {},
   "source": []
  },
  {
   "cell_type": "code",
   "execution_count": 5,
   "metadata": {},
   "outputs": [
    {
     "name": "stdout",
     "output_type": "stream",
     "text": [
      "C:\\Users\\matyp\\Documents\\GitHub\\object-detection\n"
     ]
    }
   ],
   "source": [
    "import os\n",
    "print(os.getcwd())"
   ]
  },
  {
   "cell_type": "code",
   "execution_count": 4,
   "metadata": {},
   "outputs": [
    {
     "ename": "AssertionError",
     "evalue": "Routed paths must start with '/'",
     "output_type": "error",
     "traceback": [
      "\u001b[1;31m---------------------------------------------------------------------------\u001b[0m",
      "\u001b[1;31mAssertionError\u001b[0m                            Traceback (most recent call last)",
      "Cell \u001b[1;32mIn[4], line 23\u001b[0m\n\u001b[0;32m     21\u001b[0m app \u001b[38;5;241m=\u001b[39m FastAPI()\n\u001b[0;32m     22\u001b[0m app\u001b[38;5;241m.\u001b[39mmount(\u001b[38;5;124m\"\u001b[39m\u001b[38;5;124m/static\u001b[39m\u001b[38;5;124m\"\u001b[39m, StaticFiles(directory\u001b[38;5;241m=\u001b[39mstatic), name\u001b[38;5;241m=\u001b[39m\u001b[38;5;124m\"\u001b[39m\u001b[38;5;124mstatic\u001b[39m\u001b[38;5;124m\"\u001b[39m)\n\u001b[1;32m---> 23\u001b[0m \u001b[43mapp\u001b[49m\u001b[38;5;241;43m.\u001b[39;49m\u001b[43mmount\u001b[49m\u001b[43m(\u001b[49m\u001b[38;5;124;43m\"\u001b[39;49m\u001b[38;5;124;43m./files\u001b[39;49m\u001b[38;5;124;43m\"\u001b[39;49m\u001b[43m,\u001b[49m\u001b[43m \u001b[49m\u001b[43mStaticFiles\u001b[49m\u001b[43m(\u001b[49m\u001b[43mdirectory\u001b[49m\u001b[38;5;241;43m=\u001b[39;49m\u001b[43mfiles\u001b[49m\u001b[43m)\u001b[49m\u001b[43m,\u001b[49m\u001b[43m \u001b[49m\u001b[43mname\u001b[49m\u001b[38;5;241;43m=\u001b[39;49m\u001b[38;5;124;43m\"\u001b[39;49m\u001b[38;5;124;43mfiles\u001b[39;49m\u001b[38;5;124;43m\"\u001b[39;49m\u001b[43m)\u001b[49m\n\u001b[0;32m     24\u001b[0m templates \u001b[38;5;241m=\u001b[39m Jinja2Templates(directory\u001b[38;5;241m=\u001b[39mtemplates)\n\u001b[0;32m     26\u001b[0m \u001b[38;5;129m@app\u001b[39m\u001b[38;5;241m.\u001b[39mget(\u001b[38;5;124m\"\u001b[39m\u001b[38;5;124m/\u001b[39m\u001b[38;5;124m\"\u001b[39m)\n\u001b[0;32m     27\u001b[0m \u001b[38;5;28;01masync\u001b[39;00m \u001b[38;5;28;01mdef\u001b[39;00m \u001b[38;5;21mread_item\u001b[39m(request: Request):\n",
      "File \u001b[1;32mC:\\ProgramData\\Anaconda3\\envs\\ai\\lib\\site-packages\\starlette\\applications.py:119\u001b[0m, in \u001b[0;36mStarlette.mount\u001b[1;34m(self, path, app, name)\u001b[0m\n\u001b[0;32m    118\u001b[0m \u001b[38;5;28;01mdef\u001b[39;00m \u001b[38;5;21mmount\u001b[39m(\u001b[38;5;28mself\u001b[39m, path: \u001b[38;5;28mstr\u001b[39m, app: ASGIApp, name: \u001b[38;5;28mstr\u001b[39m \u001b[38;5;241m|\u001b[39m \u001b[38;5;28;01mNone\u001b[39;00m \u001b[38;5;241m=\u001b[39m \u001b[38;5;28;01mNone\u001b[39;00m) \u001b[38;5;241m-\u001b[39m\u001b[38;5;241m>\u001b[39m \u001b[38;5;28;01mNone\u001b[39;00m:\n\u001b[1;32m--> 119\u001b[0m     \u001b[38;5;28;43mself\u001b[39;49m\u001b[38;5;241;43m.\u001b[39;49m\u001b[43mrouter\u001b[49m\u001b[38;5;241;43m.\u001b[39;49m\u001b[43mmount\u001b[49m\u001b[43m(\u001b[49m\u001b[43mpath\u001b[49m\u001b[43m,\u001b[49m\u001b[43m \u001b[49m\u001b[43mapp\u001b[49m\u001b[38;5;241;43m=\u001b[39;49m\u001b[43mapp\u001b[49m\u001b[43m,\u001b[49m\u001b[43m \u001b[49m\u001b[43mname\u001b[49m\u001b[38;5;241;43m=\u001b[39;49m\u001b[43mname\u001b[49m\u001b[43m)\u001b[49m\n",
      "File \u001b[1;32mC:\\ProgramData\\Anaconda3\\envs\\ai\\lib\\site-packages\\starlette\\routing.py:771\u001b[0m, in \u001b[0;36mRouter.mount\u001b[1;34m(self, path, app, name)\u001b[0m\n\u001b[0;32m    770\u001b[0m \u001b[38;5;28;01mdef\u001b[39;00m \u001b[38;5;21mmount\u001b[39m(\u001b[38;5;28mself\u001b[39m, path: \u001b[38;5;28mstr\u001b[39m, app: ASGIApp, name: \u001b[38;5;28mstr\u001b[39m \u001b[38;5;241m|\u001b[39m \u001b[38;5;28;01mNone\u001b[39;00m \u001b[38;5;241m=\u001b[39m \u001b[38;5;28;01mNone\u001b[39;00m) \u001b[38;5;241m-\u001b[39m\u001b[38;5;241m>\u001b[39m \u001b[38;5;28;01mNone\u001b[39;00m:  \u001b[38;5;66;03m# pragma: nocover\u001b[39;00m\n\u001b[1;32m--> 771\u001b[0m     route \u001b[38;5;241m=\u001b[39m \u001b[43mMount\u001b[49m\u001b[43m(\u001b[49m\u001b[43mpath\u001b[49m\u001b[43m,\u001b[49m\u001b[43m \u001b[49m\u001b[43mapp\u001b[49m\u001b[38;5;241;43m=\u001b[39;49m\u001b[43mapp\u001b[49m\u001b[43m,\u001b[49m\u001b[43m \u001b[49m\u001b[43mname\u001b[49m\u001b[38;5;241;43m=\u001b[39;49m\u001b[43mname\u001b[49m\u001b[43m)\u001b[49m\n\u001b[0;32m    772\u001b[0m     \u001b[38;5;28mself\u001b[39m\u001b[38;5;241m.\u001b[39mroutes\u001b[38;5;241m.\u001b[39mappend(route)\n",
      "File \u001b[1;32mC:\\ProgramData\\Anaconda3\\envs\\ai\\lib\\site-packages\\starlette\\routing.py:381\u001b[0m, in \u001b[0;36mMount.__init__\u001b[1;34m(self, path, app, routes, name, middleware)\u001b[0m\n\u001b[0;32m    372\u001b[0m \u001b[38;5;28;01mdef\u001b[39;00m \u001b[38;5;21m__init__\u001b[39m(\n\u001b[0;32m    373\u001b[0m     \u001b[38;5;28mself\u001b[39m,\n\u001b[0;32m    374\u001b[0m     path: \u001b[38;5;28mstr\u001b[39m,\n\u001b[1;32m   (...)\u001b[0m\n\u001b[0;32m    379\u001b[0m     middleware: typing\u001b[38;5;241m.\u001b[39mSequence[Middleware] \u001b[38;5;241m|\u001b[39m \u001b[38;5;28;01mNone\u001b[39;00m \u001b[38;5;241m=\u001b[39m \u001b[38;5;28;01mNone\u001b[39;00m,\n\u001b[0;32m    380\u001b[0m ) \u001b[38;5;241m-\u001b[39m\u001b[38;5;241m>\u001b[39m \u001b[38;5;28;01mNone\u001b[39;00m:\n\u001b[1;32m--> 381\u001b[0m     \u001b[38;5;28;01massert\u001b[39;00m path \u001b[38;5;241m==\u001b[39m \u001b[38;5;124m\"\u001b[39m\u001b[38;5;124m\"\u001b[39m \u001b[38;5;129;01mor\u001b[39;00m path\u001b[38;5;241m.\u001b[39mstartswith(\u001b[38;5;124m\"\u001b[39m\u001b[38;5;124m/\u001b[39m\u001b[38;5;124m\"\u001b[39m), \u001b[38;5;124m\"\u001b[39m\u001b[38;5;124mRouted paths must start with \u001b[39m\u001b[38;5;124m'\u001b[39m\u001b[38;5;124m/\u001b[39m\u001b[38;5;124m'\u001b[39m\u001b[38;5;124m\"\u001b[39m\n\u001b[0;32m    382\u001b[0m     \u001b[38;5;28;01massert\u001b[39;00m app \u001b[38;5;129;01mis\u001b[39;00m \u001b[38;5;129;01mnot\u001b[39;00m \u001b[38;5;28;01mNone\u001b[39;00m \u001b[38;5;129;01mor\u001b[39;00m routes \u001b[38;5;129;01mis\u001b[39;00m \u001b[38;5;129;01mnot\u001b[39;00m \u001b[38;5;28;01mNone\u001b[39;00m, \u001b[38;5;124m\"\u001b[39m\u001b[38;5;124mEither \u001b[39m\u001b[38;5;124m'\u001b[39m\u001b[38;5;124mapp=...\u001b[39m\u001b[38;5;124m'\u001b[39m\u001b[38;5;124m, or \u001b[39m\u001b[38;5;124m'\u001b[39m\u001b[38;5;124mroutes=\u001b[39m\u001b[38;5;124m'\u001b[39m\u001b[38;5;124m must be specified\u001b[39m\u001b[38;5;124m\"\u001b[39m\n\u001b[0;32m    383\u001b[0m     \u001b[38;5;28mself\u001b[39m\u001b[38;5;241m.\u001b[39mpath \u001b[38;5;241m=\u001b[39m path\u001b[38;5;241m.\u001b[39mrstrip(\u001b[38;5;124m\"\u001b[39m\u001b[38;5;124m/\u001b[39m\u001b[38;5;124m\"\u001b[39m)\n",
      "\u001b[1;31mAssertionError\u001b[0m: Routed paths must start with '/'"
     ]
    }
   ],
   "source": [
    "import os , io, torch\n",
    "#from ssd import SSD\n",
    "from torch_snippets import P, makedir\n",
    "from PIL import Image\n",
    "from fastapi import FastAPI, Request, UploadFile, File\n",
    "from fastapi.staticfiles import StaticFiles\n",
    "from fastapi.templating import Jinja2Templates\n",
    "\n",
    "\n",
    "#cargar el modelo desde sdd.py\n",
    "\n",
    "device = 'cuda' if torch.cuda.is_available() else 'cpu'\n",
    "model = SDD(torch.load('sdd.weights.pth', map_location=device))\n",
    "\n",
    "server_root = P('/tmp')\n",
    "templates = './templates'\n",
    "static = server_root/'server/statics'\n",
    "files = server_root/'server/files'\n",
    "for fldr in [static,files]: makedir(fldr)\n",
    "\n",
    "app = FastAPI()\n",
    "app.mount(\"/static\", StaticFiles(directory=static), name=\"static\")\n",
    "app.mount(\"/files\", StaticFiles(directory=files), name=\"files\")\n",
    "templates = Jinja2Templates(directory=templates)\n",
    "\n",
    "@app.get(\"/\")\n",
    "async def read_item(request: Request):\n",
    "    return templates.TemplateResponse(\"home.html\",{\"request\": request})\n",
    "@app.post('/uploaddata/')\n",
    "async def upload_file(request:Request, file:UploadFile=File(...)):\n",
    "    print(request)\n",
    "    content = file.read()\n",
    "    saved_filepath= f'{files}/{file.filename}'\n",
    "    with open(saved_filepath,'wb') as f:\n",
    "        f.write(content)\n",
    "    output = model.predict_from_path(saved_filepath)\n",
    "    payload = {\n",
    "        'request': request,\n",
    "        \"filename\": file.filename,\n",
    "        'output': output\n",
    "    }\n",
    "    return templates.TemplateResponse(\"home.html\", payload)\n",
    "\n",
    "\n",
    "\n",
    "\n",
    "\n",
    "@app.post(\"/predict\")\n",
    "def predict(request: Request, file: UploadFile=File(...)):\n",
    "    content = file.file.read()\n",
    "    image = Image.open(io.BytesIO(content))\n",
    "    output = model.predict_from_image(image)\n",
    "    return output"
   ]
  },
  {
   "cell_type": "code",
   "execution_count": 7,
   "metadata": {},
   "outputs": [
    {
     "name": "stdout",
     "output_type": "stream",
     "text": [
      "C:\\Users\\matyp\\Documents\\GitHub\\object-detection\n"
     ]
    }
   ],
   "source": [
    "import os\n",
    "print(os.getcwd())"
   ]
  }
 ],
 "metadata": {
  "kernelspec": {
   "display_name": "Python 3 (ipykernel)",
   "language": "python",
   "name": "python3"
  },
  "language_info": {
   "codemirror_mode": {
    "name": "ipython",
    "version": 3
   },
   "file_extension": ".py",
   "mimetype": "text/x-python",
   "name": "python",
   "nbconvert_exporter": "python",
   "pygments_lexer": "ipython3",
   "version": "3.9.7"
  }
 },
 "nbformat": 4,
 "nbformat_minor": 2
}
